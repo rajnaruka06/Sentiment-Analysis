{
 "cells": [
  {
   "cell_type": "markdown",
   "metadata": {},
   "source": [
    "# Load and explore the data"
   ]
  },
  {
   "cell_type": "code",
   "execution_count": 1,
   "metadata": {},
   "outputs": [
    {
     "name": "stderr",
     "output_type": "stream",
     "text": [
      "c:\\Users\\raj\\AppData\\Local\\Programs\\Python\\Python311\\Lib\\site-packages\\tqdm\\auto.py:21: TqdmWarning: IProgress not found. Please update jupyter and ipywidgets. See https://ipywidgets.readthedocs.io/en/stable/user_install.html\n",
      "  from .autonotebook import tqdm as notebook_tqdm\n"
     ]
    }
   ],
   "source": [
    "from datasets import load_dataset\n",
    "## dataset link: https://huggingface.co/datasets/dair-ai/emotion\n",
    "\n",
    "dataset = load_dataset(\"dair-ai/emotion\")"
   ]
  },
  {
   "cell_type": "code",
   "execution_count": 2,
   "metadata": {},
   "outputs": [
    {
     "data": {
      "text/plain": [
       "{'text': 'i didnt feel humiliated', 'label': 0}"
      ]
     },
     "execution_count": 2,
     "metadata": {},
     "output_type": "execute_result"
    }
   ],
   "source": [
    "## Label Meaning as mentioned on the huggingface documentation: \n",
    "## sadness (0), joy (1), love (2), anger (3), fear (4), surprise (5).\n",
    "dataset['train'][0]"
   ]
  },
  {
   "cell_type": "code",
   "execution_count": 3,
   "metadata": {},
   "outputs": [
    {
     "name": "stdout",
     "output_type": "stream",
     "text": [
      "Train size: 16000, test size: 2000\n",
      "longets sequence: 300\n"
     ]
    }
   ],
   "source": [
    "# Length of train and test dataset\n",
    "print(f\"Train size: {len(dataset['train'])}, test size: {len(dataset['test'])}\")\n",
    "print(f\"longets sequence: {max(len(x) for x in dataset['train']['text'])}\")"
   ]
  },
  {
   "cell_type": "markdown",
   "metadata": {},
   "source": [
    "## Build vocabulary"
   ]
  },
  {
   "cell_type": "code",
   "execution_count": 4,
   "metadata": {},
   "outputs": [
    {
     "name": "stdout",
     "output_type": "stream",
     "text": [
      "Original: i didnt feel humiliated\n",
      "Tokenized: ['i', ' didnt', ' feel', ' humiliated']\n"
     ]
    }
   ],
   "source": [
    "import regex as re\n",
    "\n",
    "## Explaining GPT4 tokenization pattern\n",
    "## ?i: case insensitive matching. This is applied on the first group of the pattern (?i:[sdmt]|ll|ve|re)\n",
    "## [sdmt] matches any of the characters s, d, m, or t (this will cover 's, 'd, 'm, and 't which were explicitly mentioned in gpt2 pattern)\n",
    "## |ll|ve|re matches ll, ve, or re (this will cover 'll, 've, and 're)\n",
    "## [^\\r\\n\\p{L}\\p{N}]?+\\p{L}+ matches any non-space, non-letter, non-digit character,(special characters like @, #) followed by one or more letters\n",
    "##      -> ^ is used for negation, so [^\\r\\n\\p{L}\\p{N}] means any character that is not a newline, letter, or digit\n",
    "##      -> \\r and \\n are carriage return and newline characters, \\p{L} is any letter, and \\p{N} is any digit\n",
    "##      -> ?+ is a non-greedy match for the previous character, so [^\\r\\n\\p{L}\\p{N}]?+ matches zero or one of the previous character\n",
    "##      -> \\p{L}+ matches one or more letters\n",
    "\n",
    "## I don't understand the difference between ? and ?+ (used here: [^\\r\\n\\p{L}\\p{N}]?+)\n",
    "\n",
    "## \\p{N}{1,3} matches one to three digits\n",
    "## ?[^\\s\\p{L}\\p{N}]++[\\r\\n]* matches any non-space, non-letter, non-digit character, followed by zero or more of the same type of character, followed by zero or more newlines\n",
    "##      -> [^\\s\\p{L}\\p{N}]++ matches one or more non-space, non-letter, non-digit characters\n",
    "##      -> \\s matches any whitespace character\n",
    "##      -> [\\r\\n]* matches zero or more newlines\n",
    "\n",
    "## Again I don't understand ++ used in [^\\s\\p{L}\\p{N}]++ We could've ust used single +\n",
    "\n",
    "## \\s*[\\r\\n] matches zero or more whitespace characters followed by a newline\n",
    "## \\s+(?!\\S) matches one or more whitespace characters that are not followed by a non-whitespace character\n",
    "## \\s+ matches one or more whitespace characters\n",
    "\n",
    "\n",
    "\n",
    "\n",
    "\n",
    "GPT4_TOKN_PAT = r\"\"\"'(?i:[sdmt]|ll|ve|re)|[^\\r\\n\\p{L}\\p{N}]?+\\p{L}+|\\p{N}{1,3}| ?[^\\s\\p{L}\\p{N}]++[\\r\\n]*|\\s*[\\r\\n]|\\s+(?!\\S)|\\s+\"\"\"\n",
    "compiled_pat = re.compile(GPT4_TOKN_PAT)\n",
    "\n",
    "print(f\"Original: {dataset['train'][0]['text']}\")\n",
    "print(f\"Tokenized: {compiled_pat.findall(dataset['train'][0]['text'])}\")"
   ]
  },
  {
   "cell_type": "code",
   "execution_count": 5,
   "metadata": {},
   "outputs": [],
   "source": [
    "## I Used to do text.lower() and whitespace removal before tokenization. \n",
    "## Now I feel like it's better to keep the original text as it is and then tokenize it.\n",
    "## Reason being is that, a ssimple \"wow\" and \"WOW\" can have different emotions while texting.\n",
    "## And also, the way a user it typying their response can also be a feature to consider. SO, whitespaces are also important.\n",
    "\n",
    "vocab = set()\n",
    "for example_idx in range(len(dataset['train'])):\n",
    "    for token in re.findall(compiled_pat, dataset['train'][example_idx]['text']): \n",
    "        vocab.add(token)\n",
    "\n",
    "## Adding a special token for out of vocabulary words\n",
    "## Also add padding token\n",
    "\n",
    "vocab.add(\"<unk>\")\n",
    "vocab.add(\"<pad>\")\n",
    "vocab = sorted(vocab)\n",
    "vocab_size = len(vocab)"
   ]
  },
  {
   "cell_type": "code",
   "execution_count": 6,
   "metadata": {},
   "outputs": [
    {
     "name": "stdout",
     "output_type": "stream",
     "text": [
      "Vocab size: 15269\n",
      "[' a', ' aa', ' aaaaaaand', ' aaaaand', ' aaaand', ' aac', ' aahhh', ' aaron', ' ab', ' abandon']\n"
     ]
    }
   ],
   "source": [
    "print(f\"Vocab size: {len(vocab)}\")\n",
    "print(vocab[:10])"
   ]
  },
  {
   "cell_type": "code",
   "execution_count": 7,
   "metadata": {},
   "outputs": [],
   "source": [
    "token_idx_map = {token: idx for idx, token in enumerate(vocab)}"
   ]
  },
  {
   "cell_type": "markdown",
   "metadata": {},
   "source": [
    "# Building a simple RNN model"
   ]
  },
  {
   "cell_type": "code",
   "execution_count": 8,
   "metadata": {},
   "outputs": [],
   "source": [
    "import torch\n",
    "import torch.nn as nn\n",
    "import torch.nn.functional as F"
   ]
  },
  {
   "cell_type": "code",
   "execution_count": 9,
   "metadata": {},
   "outputs": [
    {
     "name": "stdout",
     "output_type": "stream",
     "text": [
      "\u001b[1;31mInit signature:\u001b[0m\n",
      "\u001b[0mnn\u001b[0m\u001b[1;33m.\u001b[0m\u001b[0mEmbedding\u001b[0m\u001b[1;33m(\u001b[0m\u001b[1;33m\n",
      "\u001b[0m    \u001b[0mnum_embeddings\u001b[0m\u001b[1;33m:\u001b[0m \u001b[0mint\u001b[0m\u001b[1;33m,\u001b[0m\u001b[1;33m\n",
      "\u001b[0m    \u001b[0membedding_dim\u001b[0m\u001b[1;33m:\u001b[0m \u001b[0mint\u001b[0m\u001b[1;33m,\u001b[0m\u001b[1;33m\n",
      "\u001b[0m    \u001b[0mpadding_idx\u001b[0m\u001b[1;33m:\u001b[0m \u001b[0mOptional\u001b[0m\u001b[1;33m[\u001b[0m\u001b[0mint\u001b[0m\u001b[1;33m]\u001b[0m \u001b[1;33m=\u001b[0m \u001b[1;32mNone\u001b[0m\u001b[1;33m,\u001b[0m\u001b[1;33m\n",
      "\u001b[0m    \u001b[0mmax_norm\u001b[0m\u001b[1;33m:\u001b[0m \u001b[0mOptional\u001b[0m\u001b[1;33m[\u001b[0m\u001b[0mfloat\u001b[0m\u001b[1;33m]\u001b[0m \u001b[1;33m=\u001b[0m \u001b[1;32mNone\u001b[0m\u001b[1;33m,\u001b[0m\u001b[1;33m\n",
      "\u001b[0m    \u001b[0mnorm_type\u001b[0m\u001b[1;33m:\u001b[0m \u001b[0mfloat\u001b[0m \u001b[1;33m=\u001b[0m \u001b[1;36m2.0\u001b[0m\u001b[1;33m,\u001b[0m\u001b[1;33m\n",
      "\u001b[0m    \u001b[0mscale_grad_by_freq\u001b[0m\u001b[1;33m:\u001b[0m \u001b[0mbool\u001b[0m \u001b[1;33m=\u001b[0m \u001b[1;32mFalse\u001b[0m\u001b[1;33m,\u001b[0m\u001b[1;33m\n",
      "\u001b[0m    \u001b[0msparse\u001b[0m\u001b[1;33m:\u001b[0m \u001b[0mbool\u001b[0m \u001b[1;33m=\u001b[0m \u001b[1;32mFalse\u001b[0m\u001b[1;33m,\u001b[0m\u001b[1;33m\n",
      "\u001b[0m    \u001b[0m_weight\u001b[0m\u001b[1;33m:\u001b[0m \u001b[0mOptional\u001b[0m\u001b[1;33m[\u001b[0m\u001b[0mtorch\u001b[0m\u001b[1;33m.\u001b[0m\u001b[0mTensor\u001b[0m\u001b[1;33m]\u001b[0m \u001b[1;33m=\u001b[0m \u001b[1;32mNone\u001b[0m\u001b[1;33m,\u001b[0m\u001b[1;33m\n",
      "\u001b[0m    \u001b[0m_freeze\u001b[0m\u001b[1;33m:\u001b[0m \u001b[0mbool\u001b[0m \u001b[1;33m=\u001b[0m \u001b[1;32mFalse\u001b[0m\u001b[1;33m,\u001b[0m\u001b[1;33m\n",
      "\u001b[0m    \u001b[0mdevice\u001b[0m\u001b[1;33m=\u001b[0m\u001b[1;32mNone\u001b[0m\u001b[1;33m,\u001b[0m\u001b[1;33m\n",
      "\u001b[0m    \u001b[0mdtype\u001b[0m\u001b[1;33m=\u001b[0m\u001b[1;32mNone\u001b[0m\u001b[1;33m,\u001b[0m\u001b[1;33m\n",
      "\u001b[0m\u001b[1;33m)\u001b[0m \u001b[1;33m->\u001b[0m \u001b[1;32mNone\u001b[0m\u001b[1;33m\u001b[0m\u001b[1;33m\u001b[0m\u001b[0m\n",
      "\u001b[1;31mDocstring:\u001b[0m     \n",
      "A simple lookup table that stores embeddings of a fixed dictionary and size.\n",
      "\n",
      "This module is often used to store word embeddings and retrieve them using indices.\n",
      "The input to the module is a list of indices, and the output is the corresponding\n",
      "word embeddings.\n",
      "\n",
      "Args:\n",
      "    num_embeddings (int): size of the dictionary of embeddings\n",
      "    embedding_dim (int): the size of each embedding vector\n",
      "    padding_idx (int, optional): If specified, the entries at :attr:`padding_idx` do not contribute to the gradient;\n",
      "                                 therefore, the embedding vector at :attr:`padding_idx` is not updated during training,\n",
      "                                 i.e. it remains as a fixed \"pad\". For a newly constructed Embedding,\n",
      "                                 the embedding vector at :attr:`padding_idx` will default to all zeros,\n",
      "                                 but can be updated to another value to be used as the padding vector.\n",
      "    max_norm (float, optional): If given, each embedding vector with norm larger than :attr:`max_norm`\n",
      "                                is renormalized to have norm :attr:`max_norm`.\n",
      "    norm_type (float, optional): The p of the p-norm to compute for the :attr:`max_norm` option. Default ``2``.\n",
      "    scale_grad_by_freq (bool, optional): If given, this will scale gradients by the inverse of frequency of\n",
      "                                            the words in the mini-batch. Default ``False``.\n",
      "    sparse (bool, optional): If ``True``, gradient w.r.t. :attr:`weight` matrix will be a sparse tensor.\n",
      "                             See Notes for more details regarding sparse gradients.\n",
      "\n",
      "Attributes:\n",
      "    weight (Tensor): the learnable weights of the module of shape (num_embeddings, embedding_dim)\n",
      "                     initialized from :math:`\\mathcal{N}(0, 1)`\n",
      "\n",
      "Shape:\n",
      "    - Input: :math:`(*)`, IntTensor or LongTensor of arbitrary shape containing the indices to extract\n",
      "    - Output: :math:`(*, H)`, where `*` is the input shape and :math:`H=\\text{embedding\\_dim}`\n",
      "\n",
      ".. note::\n",
      "    Keep in mind that only a limited number of optimizers support\n",
      "    sparse gradients: currently it's :class:`optim.SGD` (`CUDA` and `CPU`),\n",
      "    :class:`optim.SparseAdam` (`CUDA` and `CPU`) and :class:`optim.Adagrad` (`CPU`)\n",
      "\n",
      ".. note::\n",
      "    When :attr:`max_norm` is not ``None``, :class:`Embedding`'s forward method will modify the\n",
      "    :attr:`weight` tensor in-place. Since tensors needed for gradient computations cannot be\n",
      "    modified in-place, performing a differentiable operation on ``Embedding.weight`` before\n",
      "    calling :class:`Embedding`'s forward method requires cloning ``Embedding.weight`` when\n",
      "    :attr:`max_norm` is not ``None``. For example::\n",
      "\n",
      "        n, d, m = 3, 5, 7\n",
      "        embedding = nn.Embedding(n, d, max_norm=True)\n",
      "        W = torch.randn((m, d), requires_grad=True)\n",
      "        idx = torch.tensor([1, 2])\n",
      "        a = embedding.weight.clone() @ W.t()  # weight must be cloned for this to be differentiable\n",
      "        b = embedding(idx) @ W.t()  # modifies weight in-place\n",
      "        out = (a.unsqueeze(0) + b.unsqueeze(1))\n",
      "        loss = out.sigmoid().prod()\n",
      "        loss.backward()\n",
      "\n",
      "Examples::\n",
      "\n",
      "    >>> # an Embedding module containing 10 tensors of size 3\n",
      "    >>> embedding = nn.Embedding(10, 3)\n",
      "    >>> # a batch of 2 samples of 4 indices each\n",
      "    >>> input = torch.LongTensor([[1, 2, 4, 5], [4, 3, 2, 9]])\n",
      "    >>> # xdoctest: +IGNORE_WANT(\"non-deterministic\")\n",
      "    >>> embedding(input)\n",
      "    tensor([[[-0.0251, -1.6902,  0.7172],\n",
      "             [-0.6431,  0.0748,  0.6969],\n",
      "             [ 1.4970,  1.3448, -0.9685],\n",
      "             [-0.3677, -2.7265, -0.1685]],\n",
      "\n",
      "            [[ 1.4970,  1.3448, -0.9685],\n",
      "             [ 0.4362, -0.4004,  0.9400],\n",
      "             [-0.6431,  0.0748,  0.6969],\n",
      "             [ 0.9124, -2.3616,  1.1151]]])\n",
      "\n",
      "\n",
      "    >>> # example with padding_idx\n",
      "    >>> embedding = nn.Embedding(10, 3, padding_idx=0)\n",
      "    >>> input = torch.LongTensor([[0, 2, 0, 5]])\n",
      "    >>> embedding(input)\n",
      "    tensor([[[ 0.0000,  0.0000,  0.0000],\n",
      "             [ 0.1535, -2.0309,  0.9315],\n",
      "             [ 0.0000,  0.0000,  0.0000],\n",
      "             [-0.1655,  0.9897,  0.0635]]])\n",
      "\n",
      "    >>> # example of changing `pad` vector\n",
      "    >>> padding_idx = 0\n",
      "    >>> embedding = nn.Embedding(3, 3, padding_idx=padding_idx)\n",
      "    >>> embedding.weight\n",
      "    Parameter containing:\n",
      "    tensor([[ 0.0000,  0.0000,  0.0000],\n",
      "            [-0.7895, -0.7089, -0.0364],\n",
      "            [ 0.6778,  0.5803,  0.2678]], requires_grad=True)\n",
      "    >>> with torch.no_grad():\n",
      "    ...     embedding.weight[padding_idx] = torch.ones(3)\n",
      "    >>> embedding.weight\n",
      "    Parameter containing:\n",
      "    tensor([[ 1.0000,  1.0000,  1.0000],\n",
      "            [-0.7895, -0.7089, -0.0364],\n",
      "            [ 0.6778,  0.5803,  0.2678]], requires_grad=True)\n",
      "\u001b[1;31mInit docstring:\u001b[0m Initializes internal Module state, shared by both nn.Module and ScriptModule.\n",
      "\u001b[1;31mFile:\u001b[0m           c:\\users\\raj\\appdata\\local\\programs\\python\\python311\\lib\\site-packages\\torch\\nn\\modules\\sparse.py\n",
      "\u001b[1;31mType:\u001b[0m           type\n",
      "\u001b[1;31mSubclasses:\u001b[0m     Embedding, Embedding"
     ]
    }
   ],
   "source": [
    "nn.Embedding?"
   ]
  },
  {
   "cell_type": "code",
   "execution_count": 10,
   "metadata": {},
   "outputs": [
    {
     "name": "stdout",
     "output_type": "stream",
     "text": [
      "\u001b[1;31mInit signature:\u001b[0m \u001b[0mnn\u001b[0m\u001b[1;33m.\u001b[0m\u001b[0mRNN\u001b[0m\u001b[1;33m(\u001b[0m\u001b[1;33m*\u001b[0m\u001b[0margs\u001b[0m\u001b[1;33m,\u001b[0m \u001b[1;33m**\u001b[0m\u001b[0mkwargs\u001b[0m\u001b[1;33m)\u001b[0m\u001b[1;33m\u001b[0m\u001b[1;33m\u001b[0m\u001b[0m\n",
      "\u001b[1;31mDocstring:\u001b[0m     \n",
      "__init__(self,input_size,hidden_size,num_layers=1,nonlinearity='tanh',bias=True,batch_first=False,dropout=0.0,bidirectional=False,device=None,dtype=None)\n",
      "\n",
      "Applies a multi-layer Elman RNN with :math:`\\tanh` or :math:`\\text{ReLU}` non-linearity to an\n",
      "input sequence.\n",
      "\n",
      "For each element in the input sequence, each layer computes the following\n",
      "function:\n",
      "\n",
      ".. math::\n",
      "    h_t = \\tanh(x_t W_{ih}^T + b_{ih} + h_{t-1}W_{hh}^T + b_{hh})\n",
      "\n",
      "where :math:`h_t` is the hidden state at time `t`, :math:`x_t` is\n",
      "the input at time `t`, and :math:`h_{(t-1)}` is the hidden state of the\n",
      "previous layer at time `t-1` or the initial hidden state at time `0`.\n",
      "If :attr:`nonlinearity` is ``'relu'``, then :math:`\\text{ReLU}` is used instead of :math:`\\tanh`.\n",
      "\n",
      "Args:\n",
      "    input_size: The number of expected features in the input `x`\n",
      "    hidden_size: The number of features in the hidden state `h`\n",
      "    num_layers: Number of recurrent layers. E.g., setting ``num_layers=2``\n",
      "        would mean stacking two RNNs together to form a `stacked RNN`,\n",
      "        with the second RNN taking in outputs of the first RNN and\n",
      "        computing the final results. Default: 1\n",
      "    nonlinearity: The non-linearity to use. Can be either ``'tanh'`` or ``'relu'``. Default: ``'tanh'``\n",
      "    bias: If ``False``, then the layer does not use bias weights `b_ih` and `b_hh`.\n",
      "        Default: ``True``\n",
      "    batch_first: If ``True``, then the input and output tensors are provided\n",
      "        as `(batch, seq, feature)` instead of `(seq, batch, feature)`.\n",
      "        Note that this does not apply to hidden or cell states. See the\n",
      "        Inputs/Outputs sections below for details.  Default: ``False``\n",
      "    dropout: If non-zero, introduces a `Dropout` layer on the outputs of each\n",
      "        RNN layer except the last layer, with dropout probability equal to\n",
      "        :attr:`dropout`. Default: 0\n",
      "    bidirectional: If ``True``, becomes a bidirectional RNN. Default: ``False``\n",
      "\n",
      "Inputs: input, h_0\n",
      "    * **input**: tensor of shape :math:`(L, H_{in})` for unbatched input,\n",
      "      :math:`(L, N, H_{in})` when ``batch_first=False`` or\n",
      "      :math:`(N, L, H_{in})` when ``batch_first=True`` containing the features of\n",
      "      the input sequence.  The input can also be a packed variable length sequence.\n",
      "      See :func:`torch.nn.utils.rnn.pack_padded_sequence` or\n",
      "      :func:`torch.nn.utils.rnn.pack_sequence` for details.\n",
      "    * **h_0**: tensor of shape :math:`(D * \\text{num\\_layers}, H_{out})` for unbatched input or\n",
      "      :math:`(D * \\text{num\\_layers}, N, H_{out})` containing the initial hidden\n",
      "      state for the input sequence batch. Defaults to zeros if not provided.\n",
      "\n",
      "    where:\n",
      "\n",
      "    .. math::\n",
      "        \\begin{aligned}\n",
      "            N ={} & \\text{batch size} \\\\\n",
      "            L ={} & \\text{sequence length} \\\\\n",
      "            D ={} & 2 \\text{ if bidirectional=True otherwise } 1 \\\\\n",
      "            H_{in} ={} & \\text{input\\_size} \\\\\n",
      "            H_{out} ={} & \\text{hidden\\_size}\n",
      "        \\end{aligned}\n",
      "\n",
      "Outputs: output, h_n\n",
      "    * **output**: tensor of shape :math:`(L, D * H_{out})` for unbatched input,\n",
      "      :math:`(L, N, D * H_{out})` when ``batch_first=False`` or\n",
      "      :math:`(N, L, D * H_{out})` when ``batch_first=True`` containing the output features\n",
      "      `(h_t)` from the last layer of the RNN, for each `t`. If a\n",
      "      :class:`torch.nn.utils.rnn.PackedSequence` has been given as the input, the output\n",
      "      will also be a packed sequence.\n",
      "    * **h_n**: tensor of shape :math:`(D * \\text{num\\_layers}, H_{out})` for unbatched input or\n",
      "      :math:`(D * \\text{num\\_layers}, N, H_{out})` containing the final hidden state\n",
      "      for each element in the batch.\n",
      "\n",
      "Attributes:\n",
      "    weight_ih_l[k]: the learnable input-hidden weights of the k-th layer,\n",
      "        of shape `(hidden_size, input_size)` for `k = 0`. Otherwise, the shape is\n",
      "        `(hidden_size, num_directions * hidden_size)`\n",
      "    weight_hh_l[k]: the learnable hidden-hidden weights of the k-th layer,\n",
      "        of shape `(hidden_size, hidden_size)`\n",
      "    bias_ih_l[k]: the learnable input-hidden bias of the k-th layer,\n",
      "        of shape `(hidden_size)`\n",
      "    bias_hh_l[k]: the learnable hidden-hidden bias of the k-th layer,\n",
      "        of shape `(hidden_size)`\n",
      "\n",
      ".. note::\n",
      "    All the weights and biases are initialized from :math:`\\mathcal{U}(-\\sqrt{k}, \\sqrt{k})`\n",
      "    where :math:`k = \\frac{1}{\\text{hidden\\_size}}`\n",
      "\n",
      ".. note::\n",
      "    For bidirectional RNNs, forward and backward are directions 0 and 1 respectively.\n",
      "    Example of splitting the output layers when ``batch_first=False``:\n",
      "    ``output.view(seq_len, batch, num_directions, hidden_size)``.\n",
      "\n",
      ".. note::\n",
      "    ``batch_first`` argument is ignored for unbatched inputs.\n",
      "\n",
      ".. include:: ../cudnn_rnn_determinism.rst\n",
      "\n",
      ".. include:: ../cudnn_persistent_rnn.rst\n",
      "\n",
      "Examples::\n",
      "\n",
      "    >>> rnn = nn.RNN(10, 20, 2)\n",
      "    >>> input = torch.randn(5, 3, 10)\n",
      "    >>> h0 = torch.randn(2, 3, 20)\n",
      "    >>> output, hn = rnn(input, h0)\n",
      "\u001b[1;31mInit docstring:\u001b[0m Initializes internal Module state, shared by both nn.Module and ScriptModule.\n",
      "\u001b[1;31mFile:\u001b[0m           c:\\users\\raj\\appdata\\local\\programs\\python\\python311\\lib\\site-packages\\torch\\nn\\modules\\rnn.py\n",
      "\u001b[1;31mType:\u001b[0m           type\n",
      "\u001b[1;31mSubclasses:\u001b[0m     "
     ]
    }
   ],
   "source": [
    "nn.RNN?"
   ]
  },
  {
   "cell_type": "code",
   "execution_count": 11,
   "metadata": {},
   "outputs": [],
   "source": [
    "## I want to define these hyperparameters:\n",
    "## 1. Embedding dimension \n",
    "## 2. Hidden dimension\n",
    "## 3. Output dimension\n",
    "## 4. Learning rate\n",
    "## 5. Number of epochs\n",
    "## 6. Batch size\n",
    "## 7. Number of layers in the RNN\n",
    "## 8. Dropout rate\n",
    "\n",
    "EMBD_DIM = 100\n",
    "HIDDEN_DIM = 256\n",
    "OUTPUT_DIM = 6\n",
    "LEARNING_RATE = 1e-3\n",
    "EPOCHS = 10\n",
    "BATCH_SIZE = 512\n",
    "NUM_LAYERS = 2\n",
    "DROP_RATE = 0.5\n",
    "\n",
    "## Design the classifier model\n",
    "\n",
    "class Classifier(nn.Module):\n",
    "    def __init__(self, vocab_size, embed_dim, hidden_dim, output_dim):\n",
    "        super(Classifier, self).__init__()\n",
    "        \n",
    "        ## Input shape = Batch, seq_len\n",
    "        self.embed = nn.Embedding(num_embeddings = vocab_size, embedding_dim = embed_dim, padding_idx=token_idx_map[\"<pad>\"], )\n",
    "        ## Shape = Batch, seq_len, embed_dim\n",
    "        self.rnn = nn.RNN(input_size = embed_dim, hidden_size = hidden_dim, num_layers = NUM_LAYERS, batch_first=True)\n",
    "        ## Shape = Batch, seq_len, hidden_dim\n",
    "        self.dropout = nn.Dropout(DROP_RATE)\n",
    "        self.fc = nn.Linear(hidden_dim, output_dim)\n",
    "        \n",
    "    def forward(self, x):\n",
    "        embedded = self.embed(x)\n",
    "        output, hidden = self.rnn(embedded)\n",
    "        output = self.dropout(output)\n",
    "        return self.fc(hidden[-1]) ## If we were using only 1 layer, then we could've used hidden.squeeze(0) instead of hidden[-1]\n",
    "\n",
    "## Defining the loss function\n",
    "criterion = nn.CrossEntropyLoss()\n",
    "\n",
    "model = Classifier(vocab_size = vocab_size, embed_dim = EMBD_DIM, hidden_dim = HIDDEN_DIM, output_dim = OUTPUT_DIM)\n",
    "optimizer = torch.optim.Adam(model.parameters(), lr = LEARNING_RATE)\n",
    "        "
   ]
  },
  {
   "cell_type": "code",
   "execution_count": 12,
   "metadata": {},
   "outputs": [
    {
     "name": "stdout",
     "output_type": "stream",
     "text": [
      "Model Layers:\n",
      "===================\n",
      "\n",
      "Layer 'embed.weight': torch.Size([15269, 100])\n",
      "Layer 'rnn.weight_ih_l0': torch.Size([256, 100])\n",
      "Layer 'rnn.weight_hh_l0': torch.Size([256, 256])\n",
      "Layer 'rnn.bias_ih_l0': torch.Size([256])\n",
      "Layer 'rnn.bias_hh_l0': torch.Size([256])\n",
      "Layer 'rnn.weight_ih_l1': torch.Size([256, 256])\n",
      "Layer 'rnn.weight_hh_l1': torch.Size([256, 256])\n",
      "Layer 'rnn.bias_ih_l1': torch.Size([256])\n",
      "Layer 'rnn.bias_hh_l1': torch.Size([256])\n",
      "Layer 'fc.weight': torch.Size([6, 256])\n",
      "Layer 'fc.bias': torch.Size([6])\n",
      "\n",
      "Total Parameters: 1751674\n"
     ]
    }
   ],
   "source": [
    "print(\"Model Layers:\\n===================\\n\")\n",
    "\n",
    "for name, param in model.named_parameters():\n",
    "    print(f\"Layer '{name}': {param.shape}\")\n",
    "\n",
    "print(\"\\nTotal Parameters:\", sum(param.numel() for param in model.parameters()))"
   ]
  },
  {
   "cell_type": "code",
   "execution_count": 13,
   "metadata": {},
   "outputs": [],
   "source": [
    "# batch = dataset['train'][0:32]\n",
    "\n",
    "# for example_text in batch['text']:\n",
    "#     print(example_text)\n",
    "#     print(compiled_pat.findall(example_text))\n",
    "#     print([token_idx_map[token] for token in compiled_pat.findall(example_text)])\n",
    "#     break\n",
    "\n",
    "# text = [re.findall(compiled_pat, example_text) for example_text in batch['text']]\n",
    "# [[token_idx_map[token] for token in example] for example in text]\n",
    "\n"
   ]
  },
  {
   "cell_type": "code",
   "execution_count": 14,
   "metadata": {},
   "outputs": [],
   "source": [
    "from torch.nn.utils.rnn import pad_sequence\n",
    "import matplotlib.pyplot as plt"
   ]
  },
  {
   "cell_type": "code",
   "execution_count": 15,
   "metadata": {},
   "outputs": [],
   "source": [
    "## Training loop\n",
    "\n",
    "def train(model, dataset, optimizer, criterion, batch_size, num_epochs):\n",
    "    \n",
    "    losses = []\n",
    "\n",
    "    for epoch in range(num_epochs):\n",
    "        dataset = dataset.shuffle()\n",
    "        for batch_idx in range(0, len(dataset), batch_size):\n",
    "            \n",
    "            ## Forward Pass\n",
    "            batch = dataset[batch_idx: batch_idx + batch_size]\n",
    "            text = [re.findall(compiled_pat, example_text) for example_text in batch['text']]\n",
    "            text = [[token_idx_map[token] if token in token_idx_map else token_idx_map[\"<unk>\"] for token in example] for example in text]\n",
    "            \n",
    "            # Pad sequences\n",
    "            text = pad_sequence([torch.tensor(example) for example in text], batch_first=True, padding_value=token_idx_map[\"<pad>\"])\n",
    "\n",
    "            labels = torch.tensor([example_label for example_label in batch['label']])\n",
    "            ## Backward Pass\n",
    "            optimizer.zero_grad()\n",
    "            output = model(text)\n",
    "            loss = criterion(output, labels)\n",
    "            loss.backward()\n",
    "            optimizer.step()\n",
    "\n",
    "            losses.append(loss.item())\n",
    "\n",
    "        print(f\"Epoch: {epoch}, Loss: {loss.item()}\")\n",
    "    \n",
    "    plt.plot(losses)"
   ]
  },
  {
   "cell_type": "code",
   "execution_count": 16,
   "metadata": {},
   "outputs": [
    {
     "name": "stdout",
     "output_type": "stream",
     "text": [
      "Epoch: 0, Loss: 1.602522611618042\n",
      "Epoch: 1, Loss: 1.500941276550293\n",
      "Epoch: 2, Loss: 1.6175740957260132\n",
      "Epoch: 3, Loss: 1.6452038288116455\n",
      "Epoch: 4, Loss: 1.6401638984680176\n",
      "Epoch: 5, Loss: 1.5183303356170654\n",
      "Epoch: 6, Loss: 1.5534172058105469\n",
      "Epoch: 7, Loss: 1.5946800708770752\n",
      "Epoch: 8, Loss: 1.618638277053833\n",
      "Epoch: 9, Loss: 1.5210343599319458\n"
     ]
    },
    {
     "data": {
      "image/png": "[encoded data removed]",
      "text/plain": [
       "<Figure size 640x480 with 1 Axes>"
      ]
     },
     "metadata": {},
     "output_type": "display_data"
    }
   ],
   "source": [
    "train(model, dataset['train'], optimizer, criterion, BATCH_SIZE, EPOCHS)"
   ]
  },
  {
   "cell_type": "code",
   "execution_count": 17,
   "metadata": {},
   "outputs": [],
   "source": [
    "## Testing the model\n",
    "# text, label = dataset['test'][0]['text'], dataset['test'][0]['label']\n",
    "\n",
    "# text = [token_idx_map[token] if token in token_idx_map else token_idx_map[\"<unk>\"] for token in re.findall(compiled_pat, text)]\n",
    "# text = torch.tensor(text).unsqueeze(0)\n",
    "# output = model(text)\n",
    "# output = F.softmax(output, dim=1)\n",
    "# output = torch.argmax(output)\n",
    "# output, label"
   ]
  },
  {
   "cell_type": "code",
   "execution_count": 18,
   "metadata": {},
   "outputs": [],
   "source": [
    "from sklearn.metrics import f1_score\n",
    "\n",
    "def test(model, dataset, verbose=False):\n",
    "    predictions = []\n",
    "    true_labels = []\n",
    "    \n",
    "    for batch_idx in range(0, len(dataset), BATCH_SIZE):\n",
    "        batch = dataset[batch_idx: batch_idx + BATCH_SIZE]\n",
    "        text = [re.findall(compiled_pat, example_text) for example_text in batch['text']]\n",
    "        text = [[token_idx_map[token] if token in token_idx_map else token_idx_map[\"<unk>\"] for token in example] for example in text]\n",
    "        text = pad_sequence([torch.tensor(example) for example in text], batch_first=True, padding_value=token_idx_map[\"<pad>\"])\n",
    "        labels = torch.tensor([example_label for example_label in batch['label']])\n",
    "        output = model(text)\n",
    "        output = F.softmax(output, dim=1)\n",
    "        output = torch.argmax(output, dim=1)\n",
    "        \n",
    "        predictions.extend(output.tolist())\n",
    "        true_labels.extend(labels.tolist())\n",
    "    \n",
    "    f1 = f1_score(true_labels, predictions, average='weighted')\n",
    "    \n",
    "    if verbose:\n",
    "        print(f\"F1 Score: {f1}\")\n",
    "    \n",
    "    return f1\n"
   ]
  },
  {
   "cell_type": "code",
   "execution_count": 20,
   "metadata": {},
   "outputs": [
    {
     "name": "stdout",
     "output_type": "stream",
     "text": [
      "Train F1: 0.17150439865990486, Validation F1: 0.184297235782734, Test F1: 0.18241438101732171\n"
     ]
    }
   ],
   "source": [
    "train_f1 = test(model, dataset['train'])\n",
    "val_f1 = test(model, dataset['validation'])\n",
    "test_f1 = test(model, dataset['test'])\n",
    "\n",
    "print(f\"Train F1: {train_f1}, Validation F1: {val_f1}, Test F1: {test_f1}\")"
   ]
  },
  {
   "cell_type": "markdown",
   "metadata": {},
   "source": [
    "# Using Bi Directional LSTM"
   ]
  },
  {
   "cell_type": "code",
   "execution_count": 21,
   "metadata": {},
   "outputs": [
    {
     "name": "stdout",
     "output_type": "stream",
     "text": [
      "\u001b[1;31mInit signature:\u001b[0m \u001b[0mnn\u001b[0m\u001b[1;33m.\u001b[0m\u001b[0mLSTM\u001b[0m\u001b[1;33m(\u001b[0m\u001b[1;33m*\u001b[0m\u001b[0margs\u001b[0m\u001b[1;33m,\u001b[0m \u001b[1;33m**\u001b[0m\u001b[0mkwargs\u001b[0m\u001b[1;33m)\u001b[0m\u001b[1;33m\u001b[0m\u001b[1;33m\u001b[0m\u001b[0m\n",
      "\u001b[1;31mDocstring:\u001b[0m     \n",
      "__init__(self,input_size,hidden_size,num_layers=1,bias=True,batch_first=False,dropout=0.0,bidirectional=False,proj_size=0,device=None,dtype=None)\n",
      "\n",
      "Applies a multi-layer long short-term memory (LSTM) RNN to an input\n",
      "sequence.\n",
      "\n",
      "For each element in the input sequence, each layer computes the following\n",
      "function:\n",
      "\n",
      ".. math::\n",
      "    \\begin{array}{ll} \\\\\n",
      "        i_t = \\sigma(W_{ii} x_t + b_{ii} + W_{hi} h_{t-1} + b_{hi}) \\\\\n",
      "        f_t = \\sigma(W_{if} x_t + b_{if} + W_{hf} h_{t-1} + b_{hf}) \\\\\n",
      "        g_t = \\tanh(W_{ig} x_t + b_{ig} + W_{hg} h_{t-1} + b_{hg}) \\\\\n",
      "        o_t = \\sigma(W_{io} x_t + b_{io} + W_{ho} h_{t-1} + b_{ho}) \\\\\n",
      "        c_t = f_t \\odot c_{t-1} + i_t \\odot g_t \\\\\n",
      "        h_t = o_t \\odot \\tanh(c_t) \\\\\n",
      "    \\end{array}\n",
      "\n",
      "where :math:`h_t` is the hidden state at time `t`, :math:`c_t` is the cell\n",
      "state at time `t`, :math:`x_t` is the input at time `t`, :math:`h_{t-1}`\n",
      "is the hidden state of the layer at time `t-1` or the initial hidden\n",
      "state at time `0`, and :math:`i_t`, :math:`f_t`, :math:`g_t`,\n",
      ":math:`o_t` are the input, forget, cell, and output gates, respectively.\n",
      ":math:`\\sigma` is the sigmoid function, and :math:`\\odot` is the Hadamard product.\n",
      "\n",
      "In a multilayer LSTM, the input :math:`x^{(l)}_t` of the :math:`l` -th layer\n",
      "(:math:`l \\ge 2`) is the hidden state :math:`h^{(l-1)}_t` of the previous layer multiplied by\n",
      "dropout :math:`\\delta^{(l-1)}_t` where each :math:`\\delta^{(l-1)}_t` is a Bernoulli random\n",
      "variable which is :math:`0` with probability :attr:`dropout`.\n",
      "\n",
      "If ``proj_size > 0`` is specified, LSTM with projections will be used. This changes\n",
      "the LSTM cell in the following way. First, the dimension of :math:`h_t` will be changed from\n",
      "``hidden_size`` to ``proj_size`` (dimensions of :math:`W_{hi}` will be changed accordingly).\n",
      "Second, the output hidden state of each layer will be multiplied by a learnable projection\n",
      "matrix: :math:`h_t = W_{hr}h_t`. Note that as a consequence of this, the output\n",
      "of LSTM network will be of different shape as well. See Inputs/Outputs sections below for exact\n",
      "dimensions of all variables. You can find more details in https://arxiv.org/abs/1402.1128.\n",
      "\n",
      "Args:\n",
      "    input_size: The number of expected features in the input `x`\n",
      "    hidden_size: The number of features in the hidden state `h`\n",
      "    num_layers: Number of recurrent layers. E.g., setting ``num_layers=2``\n",
      "        would mean stacking two LSTMs together to form a `stacked LSTM`,\n",
      "        with the second LSTM taking in outputs of the first LSTM and\n",
      "        computing the final results. Default: 1\n",
      "    bias: If ``False``, then the layer does not use bias weights `b_ih` and `b_hh`.\n",
      "        Default: ``True``\n",
      "    batch_first: If ``True``, then the input and output tensors are provided\n",
      "        as `(batch, seq, feature)` instead of `(seq, batch, feature)`.\n",
      "        Note that this does not apply to hidden or cell states. See the\n",
      "        Inputs/Outputs sections below for details.  Default: ``False``\n",
      "    dropout: If non-zero, introduces a `Dropout` layer on the outputs of each\n",
      "        LSTM layer except the last layer, with dropout probability equal to\n",
      "        :attr:`dropout`. Default: 0\n",
      "    bidirectional: If ``True``, becomes a bidirectional LSTM. Default: ``False``\n",
      "    proj_size: If ``> 0``, will use LSTM with projections of corresponding size. Default: 0\n",
      "\n",
      "Inputs: input, (h_0, c_0)\n",
      "    * **input**: tensor of shape :math:`(L, H_{in})` for unbatched input,\n",
      "      :math:`(L, N, H_{in})` when ``batch_first=False`` or\n",
      "      :math:`(N, L, H_{in})` when ``batch_first=True`` containing the features of\n",
      "      the input sequence.  The input can also be a packed variable length sequence.\n",
      "      See :func:`torch.nn.utils.rnn.pack_padded_sequence` or\n",
      "      :func:`torch.nn.utils.rnn.pack_sequence` for details.\n",
      "    * **h_0**: tensor of shape :math:`(D * \\text{num\\_layers}, H_{out})` for unbatched input or\n",
      "      :math:`(D * \\text{num\\_layers}, N, H_{out})` containing the\n",
      "      initial hidden state for each element in the input sequence.\n",
      "      Defaults to zeros if (h_0, c_0) is not provided.\n",
      "    * **c_0**: tensor of shape :math:`(D * \\text{num\\_layers}, H_{cell})` for unbatched input or\n",
      "      :math:`(D * \\text{num\\_layers}, N, H_{cell})` containing the\n",
      "      initial cell state for each element in the input sequence.\n",
      "      Defaults to zeros if (h_0, c_0) is not provided.\n",
      "\n",
      "    where:\n",
      "\n",
      "    .. math::\n",
      "        \\begin{aligned}\n",
      "            N ={} & \\text{batch size} \\\\\n",
      "            L ={} & \\text{sequence length} \\\\\n",
      "            D ={} & 2 \\text{ if bidirectional=True otherwise } 1 \\\\\n",
      "            H_{in} ={} & \\text{input\\_size} \\\\\n",
      "            H_{cell} ={} & \\text{hidden\\_size} \\\\\n",
      "            H_{out} ={} & \\text{proj\\_size if } \\text{proj\\_size}>0 \\text{ otherwise hidden\\_size} \\\\\n",
      "        \\end{aligned}\n",
      "\n",
      "Outputs: output, (h_n, c_n)\n",
      "    * **output**: tensor of shape :math:`(L, D * H_{out})` for unbatched input,\n",
      "      :math:`(L, N, D * H_{out})` when ``batch_first=False`` or\n",
      "      :math:`(N, L, D * H_{out})` when ``batch_first=True`` containing the output features\n",
      "      `(h_t)` from the last layer of the LSTM, for each `t`. If a\n",
      "      :class:`torch.nn.utils.rnn.PackedSequence` has been given as the input, the output\n",
      "      will also be a packed sequence. When ``bidirectional=True``, `output` will contain\n",
      "      a concatenation of the forward and reverse hidden states at each time step in the sequence.\n",
      "    * **h_n**: tensor of shape :math:`(D * \\text{num\\_layers}, H_{out})` for unbatched input or\n",
      "      :math:`(D * \\text{num\\_layers}, N, H_{out})` containing the\n",
      "      final hidden state for each element in the sequence. When ``bidirectional=True``,\n",
      "      `h_n` will contain a concatenation of the final forward and reverse hidden states, respectively.\n",
      "    * **c_n**: tensor of shape :math:`(D * \\text{num\\_layers}, H_{cell})` for unbatched input or\n",
      "      :math:`(D * \\text{num\\_layers}, N, H_{cell})` containing the\n",
      "      final cell state for each element in the sequence. When ``bidirectional=True``,\n",
      "      `c_n` will contain a concatenation of the final forward and reverse cell states, respectively.\n",
      "\n",
      "Attributes:\n",
      "    weight_ih_l[k] : the learnable input-hidden weights of the :math:`\\text{k}^{th}` layer\n",
      "        `(W_ii|W_if|W_ig|W_io)`, of shape `(4*hidden_size, input_size)` for `k = 0`.\n",
      "        Otherwise, the shape is `(4*hidden_size, num_directions * hidden_size)`. If\n",
      "        ``proj_size > 0`` was specified, the shape will be\n",
      "        `(4*hidden_size, num_directions * proj_size)` for `k > 0`\n",
      "    weight_hh_l[k] : the learnable hidden-hidden weights of the :math:`\\text{k}^{th}` layer\n",
      "        `(W_hi|W_hf|W_hg|W_ho)`, of shape `(4*hidden_size, hidden_size)`. If ``proj_size > 0``\n",
      "        was specified, the shape will be `(4*hidden_size, proj_size)`.\n",
      "    bias_ih_l[k] : the learnable input-hidden bias of the :math:`\\text{k}^{th}` layer\n",
      "        `(b_ii|b_if|b_ig|b_io)`, of shape `(4*hidden_size)`\n",
      "    bias_hh_l[k] : the learnable hidden-hidden bias of the :math:`\\text{k}^{th}` layer\n",
      "        `(b_hi|b_hf|b_hg|b_ho)`, of shape `(4*hidden_size)`\n",
      "    weight_hr_l[k] : the learnable projection weights of the :math:`\\text{k}^{th}` layer\n",
      "        of shape `(proj_size, hidden_size)`. Only present when ``proj_size > 0`` was\n",
      "        specified.\n",
      "    weight_ih_l[k]_reverse: Analogous to `weight_ih_l[k]` for the reverse direction.\n",
      "        Only present when ``bidirectional=True``.\n",
      "    weight_hh_l[k]_reverse:  Analogous to `weight_hh_l[k]` for the reverse direction.\n",
      "        Only present when ``bidirectional=True``.\n",
      "    bias_ih_l[k]_reverse:  Analogous to `bias_ih_l[k]` for the reverse direction.\n",
      "        Only present when ``bidirectional=True``.\n",
      "    bias_hh_l[k]_reverse:  Analogous to `bias_hh_l[k]` for the reverse direction.\n",
      "        Only present when ``bidirectional=True``.\n",
      "    weight_hr_l[k]_reverse:  Analogous to `weight_hr_l[k]` for the reverse direction.\n",
      "        Only present when ``bidirectional=True`` and ``proj_size > 0`` was specified.\n",
      "\n",
      ".. note::\n",
      "    All the weights and biases are initialized from :math:`\\mathcal{U}(-\\sqrt{k}, \\sqrt{k})`\n",
      "    where :math:`k = \\frac{1}{\\text{hidden\\_size}}`\n",
      "\n",
      ".. note::\n",
      "    For bidirectional LSTMs, forward and backward are directions 0 and 1 respectively.\n",
      "    Example of splitting the output layers when ``batch_first=False``:\n",
      "    ``output.view(seq_len, batch, num_directions, hidden_size)``.\n",
      "\n",
      ".. note::\n",
      "    For bidirectional LSTMs, `h_n` is not equivalent to the last element of `output`; the\n",
      "    former contains the final forward and reverse hidden states, while the latter contains the\n",
      "    final forward hidden state and the initial reverse hidden state.\n",
      "\n",
      ".. note::\n",
      "    ``batch_first`` argument is ignored for unbatched inputs.\n",
      "\n",
      ".. note::\n",
      "    ``proj_size`` should be smaller than ``hidden_size``.\n",
      "\n",
      ".. include:: ../cudnn_rnn_determinism.rst\n",
      "\n",
      ".. include:: ../cudnn_persistent_rnn.rst\n",
      "\n",
      "Examples::\n",
      "\n",
      "    >>> rnn = nn.LSTM(10, 20, 2)\n",
      "    >>> input = torch.randn(5, 3, 10)\n",
      "    >>> h0 = torch.randn(2, 3, 20)\n",
      "    >>> c0 = torch.randn(2, 3, 20)\n",
      "    >>> output, (hn, cn) = rnn(input, (h0, c0))\n",
      "\u001b[1;31mInit docstring:\u001b[0m Initializes internal Module state, shared by both nn.Module and ScriptModule.\n",
      "\u001b[1;31mFile:\u001b[0m           c:\\users\\raj\\appdata\\local\\programs\\python\\python311\\lib\\site-packages\\torch\\nn\\modules\\rnn.py\n",
      "\u001b[1;31mType:\u001b[0m           type\n",
      "\u001b[1;31mSubclasses:\u001b[0m     "
     ]
    }
   ],
   "source": [
    "nn.LSTM?"
   ]
  },
  {
   "cell_type": "code",
   "execution_count": 22,
   "metadata": {},
   "outputs": [],
   "source": [
    "## Design the classifier model\n",
    "\n",
    "class Classifier(nn.Module):\n",
    "    def __init__(self, vocab_size, embed_dim, hidden_dim, output_dim):\n",
    "        super(Classifier, self).__init__()\n",
    "        \n",
    "        ## Input shape = Batch, seq_len\n",
    "        self.embed = nn.Embedding(num_embeddings = vocab_size, embedding_dim = embed_dim, padding_idx=token_idx_map[\"<pad>\"], )\n",
    "        ## Shape = Batch, seq_len, embed_dim\n",
    "        self.lstm = nn.LSTM(input_size = embed_dim, hidden_size = hidden_dim, num_layers = NUM_LAYERS, batch_first=True, bidirectional=True)\n",
    "        ## Shape = Batch, seq_len, hidden_dim\n",
    "        self.dropout = nn.Dropout(DROP_RATE)\n",
    "        self.fc = nn.Linear(hidden_dim * 2, output_dim)\n",
    "    \n",
    "    def forward(self, x):\n",
    "        embedded = self.embed(x)\n",
    "        output, (hidden, cell) = self.lstm(embedded)\n",
    "        output = self.dropout(output)\n",
    "        hidden = torch.cat((hidden[-2, :, :], hidden[-1, :, :]), dim=1)\n",
    "        return self.fc(hidden)\n"
   ]
  },
  {
   "cell_type": "code",
   "execution_count": 23,
   "metadata": {},
   "outputs": [],
   "source": [
    "EMBD_DIM = 100\n",
    "HIDDEN_DIM = 256\n",
    "OUTPUT_DIM = 6\n",
    "LEARNING_RATE = 1e-3\n",
    "EPOCHS = 50\n",
    "BATCH_SIZE = 1024\n",
    "NUM_LAYERS = 2\n",
    "DROP_RATE = 0.5\n",
    "\n",
    "## Defining the loss function\n",
    "criterion = nn.CrossEntropyLoss()\n",
    "\n",
    "model = Classifier(vocab_size = vocab_size, embed_dim = EMBD_DIM, hidden_dim = HIDDEN_DIM, output_dim = OUTPUT_DIM)\n",
    "optimizer = torch.optim.Adam(model.parameters(), lr = LEARNING_RATE, weight_decay=1e-5)"
   ]
  },
  {
   "cell_type": "code",
   "execution_count": 24,
   "metadata": {},
   "outputs": [
    {
     "name": "stdout",
     "output_type": "stream",
     "text": [
      "Epoch: 0, Loss: 1.570894479751587\n",
      "Epoch: 1, Loss: 1.5695139169692993\n",
      "Epoch: 2, Loss: 1.4924730062484741\n",
      "Epoch: 3, Loss: 1.3647425174713135\n",
      "Epoch: 4, Loss: 1.2078039646148682\n",
      "Epoch: 5, Loss: 0.8376599550247192\n",
      "Epoch: 6, Loss: 0.6080859899520874\n",
      "Epoch: 7, Loss: 0.44204646348953247\n",
      "Epoch: 8, Loss: 0.28288689255714417\n",
      "Epoch: 9, Loss: 0.2252407968044281\n",
      "Epoch: 10, Loss: 0.20028433203697205\n",
      "Epoch: 11, Loss: 0.1621636003255844\n",
      "Epoch: 12, Loss: 0.16326643526554108\n",
      "Epoch: 13, Loss: 0.11511872708797455\n",
      "Epoch: 14, Loss: 0.1289307177066803\n",
      "Epoch: 15, Loss: 0.08045659959316254\n",
      "Epoch: 16, Loss: 0.0846930593252182\n",
      "Epoch: 17, Loss: 0.050293851643800735\n",
      "Epoch: 18, Loss: 0.04794337972998619\n",
      "Epoch: 19, Loss: 0.061218924820423126\n",
      "Epoch: 20, Loss: 0.04871930927038193\n",
      "Epoch: 21, Loss: 0.03687512129545212\n",
      "Epoch: 22, Loss: 0.05709188058972359\n",
      "Epoch: 23, Loss: 0.04223119840025902\n",
      "Epoch: 24, Loss: 0.04960017651319504\n",
      "Epoch: 25, Loss: 0.05790320038795471\n",
      "Epoch: 26, Loss: 0.04680951312184334\n",
      "Epoch: 27, Loss: 0.047961797565221786\n",
      "Epoch: 28, Loss: 0.027127698063850403\n",
      "Epoch: 29, Loss: 0.0219837948679924\n",
      "Epoch: 30, Loss: 0.03905700892210007\n",
      "Epoch: 31, Loss: 0.024082863703370094\n",
      "Epoch: 32, Loss: 0.020726177841424942\n",
      "Epoch: 33, Loss: 0.021774882450699806\n",
      "Epoch: 34, Loss: 0.009386030025780201\n",
      "Epoch: 35, Loss: 0.01683075912296772\n",
      "Epoch: 36, Loss: 0.01974055916070938\n",
      "Epoch: 37, Loss: 0.020508000627160072\n",
      "Epoch: 38, Loss: 0.061735909432172775\n",
      "Epoch: 39, Loss: 0.03185458481311798\n",
      "Epoch: 40, Loss: 0.00902177207171917\n",
      "Epoch: 41, Loss: 0.020314419642090797\n",
      "Epoch: 42, Loss: 0.011130604892969131\n",
      "Epoch: 43, Loss: 0.008178702555596828\n",
      "Epoch: 44, Loss: 0.030795514583587646\n",
      "Epoch: 45, Loss: 0.00942031666636467\n",
      "Epoch: 46, Loss: 0.01182639691978693\n",
      "Epoch: 47, Loss: 0.014136550948023796\n",
      "Epoch: 48, Loss: 0.015953177586197853\n",
      "Epoch: 49, Loss: 0.02043962851166725\n"
     ]
    },
    {
     "data": {
      "image/png": "[encoded data removed]",
      "text/plain": [
       "<Figure size 640x480 with 1 Axes>"
      ]
     },
     "metadata": {},
     "output_type": "display_data"
    }
   ],
   "source": [
    "train(model, dataset['train'], optimizer, criterion, BATCH_SIZE, EPOCHS)"
   ]
  },
  {
   "cell_type": "code",
   "execution_count": 25,
   "metadata": {},
   "outputs": [
    {
     "name": "stdout",
     "output_type": "stream",
     "text": [
      "Train F1: 0.9958750649610838, Validation F1: 0.8764460647095261, Test F1: 0.8685661807729537\n"
     ]
    }
   ],
   "source": [
    "train_f1 = test(model, dataset['train'])\n",
    "val_f1 = test(model, dataset['validation'])\n",
    "test_f1 = test(model, dataset['test'])\n",
    "\n",
    "print(f\"Train F1: {train_f1}, Validation F1: {val_f1}, Test F1: {test_f1}\")"
   ]
  },
  {
   "cell_type": "code",
   "execution_count": 26,
   "metadata": {},
   "outputs": [],
   "source": [
    "## torch.save(model.state_dict(), \"emotion_classifier.pth\")\n",
    "\n",
    "import datetime\n",
    "# Save the model\n",
    "current_date = datetime.datetime.now().strftime(\"%Y-%m-%d\")\n",
    "model_path = f\"emotion_classifier_{current_date}.pth\"\n",
    "torch.save(model.state_dict(), model_path)"
   ]
  },
  {
   "cell_type": "markdown",
   "metadata": {},
   "source": [
    "# Classifying Emotions"
   ]
  },
  {
   "cell_type": "code",
   "execution_count": 27,
   "metadata": {},
   "outputs": [],
   "source": [
    "emotions= {\n",
    "    0: \"sadness\",\n",
    "    1: \"joy\",\n",
    "    2: \"love\",\n",
    "    3: \"anger\",\n",
    "    4: \"fear\",\n",
    "    5: \"surprise\"\n",
    "}\n",
    "\n",
    "current_date = datetime.datetime.now().strftime(\"%Y-%m-%d\")\n",
    "model_path = f\"emotion_classifier_{current_date}.pth\"\n",
    "\n",
    "model = Classifier(vocab_size = vocab_size, embed_dim = EMBD_DIM, hidden_dim = HIDDEN_DIM, output_dim = OUTPUT_DIM)\n",
    "model.load_state_dict(torch.load(model_path))\n",
    "\n",
    "def predict_emotion(model, text):\n",
    "    text = [token_idx_map[token] if token in token_idx_map else token_idx_map[\"<unk>\"] for token in re.findall(compiled_pat, text)]\n",
    "    text = torch.tensor(text).unsqueeze(0)\n",
    "    output = model(text)\n",
    "    output = F.softmax(output, dim=1)\n",
    "    output = torch.argmax(output)\n",
    "    return emotions[int(output)]"
   ]
  },
  {
   "cell_type": "code",
   "execution_count": 28,
   "metadata": {},
   "outputs": [
    {
     "data": {
      "text/plain": [
       "'joy'"
      ]
     },
     "execution_count": 28,
     "metadata": {},
     "output_type": "execute_result"
    }
   ],
   "source": [
    "predict_emotion(model, \"This is fun\")"
   ]
  },
  {
   "cell_type": "markdown",
   "metadata": {},
   "source": []
  }
 ],
 "metadata": {
  "kernelspec": {
   "display_name": "Python 3",
   "language": "python",
   "name": "python3"
  },
  "language_info": {
   "codemirror_mode": {
    "name": "ipython",
    "version": 3
   },
   "file_extension": ".py",
   "mimetype": "text/x-python",
   "name": "python",
   "nbconvert_exporter": "python",
   "pygments_lexer": "ipython3",
   "version": "3.11.7"
  }
 },
 "nbformat": 4,
 "nbformat_minor": 2
}
